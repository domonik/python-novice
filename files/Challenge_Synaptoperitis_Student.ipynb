{
 "cells": [
  {
   "cell_type": "markdown",
   "metadata": {
    "jp-MarkdownHeadingCollapsed": true
   },
   "source": [
    "### Synaptoperitis Research Challenge!\n",
    ">***Note**: This task is simplified for learning purposes. Real RNA sequencing analysis involves more complex steps, but the goal here is to practice essential data manipulation and visualization skills. Synaptoperitis is a fictional disease, and all gene names and data in this exercise are entirely fictional, designed solely for learning purposes. For some subtasks you  will need to refer to Python documentation or conduct web reviews which is also a major part of real life data science / coding.*\n",
    "\n",
    "\n",
    "In this exercise, you’re joining a research team (2 people) with a critical mission: to identify a potential key gene in the progression of the fictional disease Synaptoperitis! Your findings in this fictional dataset could theoretically guide the next steps toward therapy development (if this disease were real!).\n",
    "\n",
    "#### Background:\n",
    "\n",
    "Synaptoperitis is a fictional neurodegenerative disorder characterized by the progressive deterioration of synaptic function, leading to cognitive decline and motor impairment. Symptoms may include memory loss, difficulties in coordination, and changes in mood or behavior. The exact mechanisms underlying Synaptoperitis remain largely unknown, but it is believed that certain genes may be involved in the regulation of synaptic health and neurotransmitter balance.\n",
    "<br/><br/>\n",
    "The team has collected RNA data from \"healthy\" and \"diseased\" brain tissue from a mouse model of the disease to identify which genes are upregulated, hypothesizing that some of those could play a crucial role in disease progression. Through your data analysis, you will search for these significantly upregulated genes and identify a primary target for hypothetical therapies.\n",
    "\n",
    "#### Your Research Tasks:\n",
    "\n",
    "- Task 1: Load the fictional count data for control and diseased tissue as well as the pseudogene_mapping and familiarize yourself with the data.\n",
    "\n",
    "- Task 2: Review the expression counts for a gene of interest suggested by the team (AKT7LA1) in healthy vs. diseased tissues.\n",
    "\n",
    "- Task 3: Calculate the fold-change upregulation for each gene in diseased tissue compared to healthy tissue.\n",
    "\n",
    "- Task 4: Identify genes that are upregulated at least 2-fold and rank them to determine the top candidates.\n",
    "\n",
    "- Task 5: Visualize the highest-upregulated gene with a bar plot comparing its counts in healthy vs. diseased samples.\n",
    "\n",
    "\n",
    "### Awards:\n",
    "\n",
    "- **Groundbreaking Research**: The team that completes all tasks correctly in the shortest time.\n",
    "\n",
    "- **Best Science Illustration**: Team with the prettiest bar plot (voted by all teams).\n"
   ]
  },
  {
   "cell_type": "markdown",
   "metadata": {},
   "source": [
    "### Task: Pre-requisites\n",
    "\n",
    "- In this task, you will need the pandas as well as the matplotlib library.\n",
    "<br/><br/>\n",
    "\n",
    "- **Your solution should include the following steps:**\n",
    "    - Import both packages.\n"
   ]
  },
  {
   "cell_type": "code",
   "execution_count": 1,
   "metadata": {},
   "outputs": [],
   "source": [
    "## To Do"
   ]
  },
  {
   "cell_type": "markdown",
   "metadata": {},
   "source": [
    "### Task 1: Load the fictional data and inspect the pseudogene mappings and counts.\n",
    "\n",
    "- Import the *\"pseudogene_mapping.csv\"* and the *\"combined_counts.csv\"* as you did for CSV files previously.\n",
    "\n",
    "- Familiarize yourself with the structure and  content of both dataframes.\n",
    "<br/><br/>\n",
    "\n",
    "- *Your solution should include the following steps:**\n",
    "    - Import both files as dataframes.\n",
    "    - Review the content of both dataframes."
   ]
  },
  {
   "cell_type": "code",
   "execution_count": null,
   "metadata": {
    "pycharm": {
     "is_executing": true
    }
   },
   "outputs": [],
   "source": [
    "## To Do"
   ]
  },
  {
   "cell_type": "markdown",
   "metadata": {},
   "source": [
    "### Task 2: Can you infer a potential role of AKT7LA1 in Synaptoperitis based on your dataset?\n",
    "\n",
    "- Literature reviews suggest that the gene **AKT7LA1** plays a role in the progression of **Synaptoperitis**. Before you proceed with your analysis, take a quick look at the counts for AKT7LA1 in the dataset.\n",
    "\n",
    "- You may have noticed that the sequencing company sent you the count table with Ensemble IDs rather than gene names. However, you have also loaded a dataframe containing the gene names corresponding to each Ensemble ID. Thus, you will first need to merge both dataframes based on the shared column you identified in Task 1.\n",
    "<br/><br/>\n",
    "\n",
    "- **Tip 1**:  The `df.merge()` method may be helpful here: (https://pandas.pydata.org/docs/reference/api/pandas.merge.html).\n",
    "\n",
    "- **Tip 2**:  Use the `df.set_index()` function to set \"Gene_Name\" as the new index after merging, so you can select entries by gene name similarly to how we did in the workshop previously:(https://pandas.pydata.org/docs/reference/api/pandas.DataFrame.set_index.html).\n",
    "<br/><br/>\n",
    "\n",
    "- **Your solution should include the following steps:**\n",
    "    - Create a merged dataframe that contains Gene_Names (as the index) as well as the Pseudogene_ID and Diseased_Count columns.\n"
   ]
  },
  {
   "cell_type": "code",
   "execution_count": null,
   "metadata": {},
   "outputs": [],
   "source": [
    "## To Do"
   ]
  },
  {
   "cell_type": "markdown",
   "metadata": {},
   "source": [
    "### Task 3: Calculate the fold-change upregulation for each gene in diseased tissue compared to healthy tissue.\n",
    "\n",
    "- - Next, you want to determine how much each gene is upregulated in the diseased tissue versus the control tissue. To do this, add a column called *\"Fold_Change\"* to your dataframe.\n",
    "<br/><br/>\n",
    "\n",
    "- **Tip 1**: You can create a new column in a dataframe using the syntax `df[\"new_column\"] = XYZ`.\n",
    "\n",
    "- **Tip 2**: You can perform computations with entire columns of a dataframe.\n",
    "<br/><br/>\n",
    "\n",
    "- **Your solution should include the following steps:**\n",
    "    - The merged dataframe created in Task 2 should now include the column **Fold_Change**, which contains the upregulation values for each gene in the diseased tissue sample.\n"
   ]
  },
  {
   "cell_type": "code",
   "execution_count": null,
   "metadata": {},
   "outputs": [],
   "source": [
    "## To Do"
   ]
  },
  {
   "cell_type": "markdown",
   "metadata": {},
   "source": [
    "### Task 4: Identify how many genes that are upregulated at least 2-fold and rank them to determine the top candidates.\n",
    "\n",
    "- In this task, you will infer potential disease-relevant genes from the dataset. Your goal is to identify genes that are upregulated by at least 2-fold in the diseased tissue.\n",
    "\n",
    "\n",
    "- **Tip 1:** To learn how to subset entries in a DataFrame based on a condition, refer to: https://pandas.pydata.org/docs/getting_started/intro_tutorials/03_subset_data.html\n",
    "\n",
    "- **Tip 2:** You have already learned different ways to sort lists. You can sort a dataframe based on a certain column by using the `df.sort_values()` method: https://pandas.pydata.org/docs/reference/api/pandas.DataFrame.sort_values.html\n",
    "<br/><br/>\n",
    "\n",
    "- **Your solution should include the following steps:**\n",
    "    - Subset the genes that meet this criterion to create a new DataFrame.\n",
    "    - Sort this new DataFrame in descending order based on fold-change.\n",
    "    - Save the new dataframe as `.csv` file.\n",
    "    - How many genes are upregulated by at least 2-fold?"
   ]
  },
  {
   "cell_type": "code",
   "execution_count": null,
   "metadata": {},
   "outputs": [],
   "source": [
    "## To Do"
   ]
  },
  {
   "cell_type": "markdown",
   "metadata": {},
   "source": [
    "### Task 5: Visualize the highest-upregulated gene with a bar plot comparing its counts in healthy vs. diseased samples.\n",
    "\n",
    "- After creating a sorted list of the upregulated genes in the dataset, you want to identify the genes with the highest upregulation in diseased tissue to find potential targets for therapy.\n",
    "\n",
    "- Next month, you will attend an important meeting called *Hallmarks of Synaptoperitis Progression 2024* which takes place in a conference center near Hamburg. For this meeting you want to create barplot showing  the control vs. diseased tissue counts for the three top upregulated genes to discuss them with your peers at your next lab meeting.\n",
    "\n",
    "- **Tip 1:** You have already sorted your list by descending fold-change. Do you remember how to select dataframe entries based on their position in the dataframe?\n",
    "- **Tip 2:** There is an extra barplot function in the `matplotlib` library called, .bar (https://matplotlib.org/stable/api/_as_gen/matplotlib.pyplot.bar.html)\n",
    "<br/><br/>\n",
    "\n",
    "- **Your solution should include the following steps:**\n",
    "    - Identify the 3 genes with the highest fold-change in the diseased tissue.\n",
    "    - Generate a bar plot for each of these genes, presenting the counts for the control vs. diseased tissue.\n"
   ]
  },
  {
   "cell_type": "code",
   "execution_count": null,
   "metadata": {},
   "outputs": [],
   "source": [
    "## To Do\n"
   ]
  }
 ],
 "metadata": {
  "kernelspec": {
   "display_name": "Python 3 (ipykernel)",
   "language": "python",
   "name": "python3"
  },
  "language_info": {
   "codemirror_mode": {
    "name": "ipython",
    "version": 3
   },
   "file_extension": ".py",
   "mimetype": "text/x-python",
   "name": "python",
   "nbconvert_exporter": "python",
   "pygments_lexer": "ipython3",
   "version": "3.11.10"
  }
 },
 "nbformat": 4,
 "nbformat_minor": 4
}
